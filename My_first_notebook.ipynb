{
  "nbformat": 4,
  "nbformat_minor": 0,
  "metadata": {
    "colab": {
      "provenance": [],
      "authorship_tag": "ABX9TyNVCEE3gG67NEIK/3D1N3vg",
      "include_colab_link": true
    },
    "kernelspec": {
      "name": "python3",
      "display_name": "Python 3"
    },
    "language_info": {
      "name": "python"
    }
  },
  "cells": [
    {
      "cell_type": "markdown",
      "metadata": {
        "id": "view-in-github",
        "colab_type": "text"
      },
      "source": [
        "<a href=\"https://colab.research.google.com/github/sarax2223/my-first-repositary/blob/main/My_first_notebook.ipynb\" target=\"_parent\"><img src=\"https://colab.research.google.com/assets/colab-badge.svg\" alt=\"Open In Colab\"/></a>"
      ]
    },
    {
      "cell_type": "code",
      "execution_count": 3,
      "metadata": {
        "colab": {
          "base_uri": "https://localhost:8080/"
        },
        "id": "Rpir1SfblnSc",
        "outputId": "d02481f4-f9e9-45ae-f82b-c2bccca82b26"
      },
      "outputs": [
        {
          "output_type": "stream",
          "name": "stdout",
          "text": [
            "Hola SARA\n",
            "15\n",
            "8\n"
          ]
        }
      ],
      "source": [
        "name = \"SARA\"\n",
        "print(\"Hola\", name)\n",
        "a = 3\n",
        "b = 5\n",
        "c = a * b\n",
        "d = a + b\n",
        "print ( c )\n",
        "print ( d )\n",
        "\n"
      ]
    },
    {
      "cell_type": "markdown",
      "source": [],
      "metadata": {
        "id": "iw-V-LRJmVUg"
      }
    },
    {
      "cell_type": "markdown",
      "source": [],
      "metadata": {
        "id": "5n63evP1mWpo"
      }
    }
  ]
}